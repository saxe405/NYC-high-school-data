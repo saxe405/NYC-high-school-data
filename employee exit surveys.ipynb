{
 "cells": [
  {
   "cell_type": "markdown",
   "metadata": {
    "collapsed": true
   },
   "source": [
    "# I am writing a markdown because this module forces me to"
   ]
  },
  {
   "cell_type": "code",
   "execution_count": 1,
   "metadata": {
    "collapsed": true
   },
   "outputs": [],
   "source": [
    "import numpy as np\n",
    "import pandas as pd"
   ]
  },
  {
   "cell_type": "code",
   "execution_count": 6,
   "metadata": {
    "collapsed": false
   },
   "outputs": [
    {
     "name": "stdout",
     "output_type": "stream",
     "text": [
      "   ID                    SeparationType Cease Date  DETE Start Date  \\\n",
      "0   1             Ill Health Retirement    08/2012           1984.0   \n",
      "1   2  Voluntary Early Retirement (VER)    08/2012              NaN   \n",
      "2   3  Voluntary Early Retirement (VER)    05/2012           2011.0   \n",
      "3   4         Resignation-Other reasons    05/2012           2005.0   \n",
      "\n",
      "   Role Start Date         Position Classification              Region  \\\n",
      "0           2004.0   Public Servant        A01-A04      Central Office   \n",
      "1              NaN   Public Servant        AO5-AO7      Central Office   \n",
      "2           2011.0  Schools Officer            NaN      Central Office   \n",
      "3           2006.0          Teacher        Primary  Central Queensland   \n",
      "\n",
      "                       Business Unit    Employment Status  ...   \\\n",
      "0  Corporate Strategy and Peformance  Permanent Full-time  ...    \n",
      "1  Corporate Strategy and Peformance  Permanent Full-time  ...    \n",
      "2               Education Queensland  Permanent Full-time  ...    \n",
      "3                                NaN  Permanent Full-time  ...    \n",
      "\n",
      "   Kept informed  Wellness programs  Health & Safety  Gender          Age  \\\n",
      "0              N                  N                N    Male        56-60   \n",
      "1              N                  N                N    Male        56-60   \n",
      "2              N                  N                N    Male  61 or older   \n",
      "3              A                  N                A  Female        36-40   \n",
      "\n",
      "   Aboriginal  Torres Strait  South Sea  Disability  NESB  \n",
      "0         NaN            NaN        NaN         NaN   Yes  \n",
      "1         NaN            NaN        NaN         NaN   NaN  \n",
      "2         NaN            NaN        NaN         NaN   NaN  \n",
      "3         NaN            NaN        NaN         NaN   NaN  \n",
      "\n",
      "[4 rows x 56 columns]\n",
      "      Record ID                              Institute  \\\n",
      "0  6.341330e+17  Southern Queensland Institute of TAFE   \n",
      "1  6.341337e+17            Mount Isa Institute of TAFE   \n",
      "2  6.341388e+17            Mount Isa Institute of TAFE   \n",
      "3  6.341399e+17            Mount Isa Institute of TAFE   \n",
      "\n",
      "                   WorkArea  CESSATION YEAR Reason for ceasing employment  \\\n",
      "0  Non-Delivery (corporate)          2010.0              Contract Expired   \n",
      "1  Non-Delivery (corporate)          2010.0                    Retirement   \n",
      "2       Delivery (teaching)          2010.0                    Retirement   \n",
      "3  Non-Delivery (corporate)          2010.0                   Resignation   \n",
      "\n",
      "  Contributing Factors. Career Move - Public Sector   \\\n",
      "0                                                NaN   \n",
      "1                                                  -   \n",
      "2                                                  -   \n",
      "3                                                  -   \n",
      "\n",
      "  Contributing Factors. Career Move - Private Sector   \\\n",
      "0                                                NaN    \n",
      "1                                                  -    \n",
      "2                                                  -    \n",
      "3                                                  -    \n",
      "\n",
      "  Contributing Factors. Career Move - Self-employment  \\\n",
      "0                                                NaN    \n",
      "1                                                  -    \n",
      "2                                                  -    \n",
      "3                                                  -    \n",
      "\n",
      "  Contributing Factors. Ill Health Contributing Factors. Maternity/Family  \\\n",
      "0                              NaN                                    NaN   \n",
      "1                                -                                      -   \n",
      "2                                -                                      -   \n",
      "3                                -                                      -   \n",
      "\n",
      "                                     ...                                     \\\n",
      "0                                    ...                                      \n",
      "1                                    ...                                      \n",
      "2                                    ...                                      \n",
      "3                                    ...                                      \n",
      "\n",
      "  Workplace. Topic:Does your workplace promote a work culture free from all forms of unlawful discrimination?  \\\n",
      "0                                                Yes                                                            \n",
      "1                                                Yes                                                            \n",
      "2                                                Yes                                                            \n",
      "3                                                Yes                                                            \n",
      "\n",
      "  Workplace. Topic:Does your workplace promote and practice the principles of employment equity?  \\\n",
      "0                                                Yes                                               \n",
      "1                                                Yes                                               \n",
      "2                                                Yes                                               \n",
      "3                                                Yes                                               \n",
      "\n",
      "  Workplace. Topic:Does your workplace value the diversity of its employees?  \\\n",
      "0                                                Yes                           \n",
      "1                                                Yes                           \n",
      "2                                                Yes                           \n",
      "3                                                Yes                           \n",
      "\n",
      "  Workplace. Topic:Would you recommend the Institute as an employer to others?  \\\n",
      "0                                                Yes                             \n",
      "1                                                Yes                             \n",
      "2                                                Yes                             \n",
      "3                                                Yes                             \n",
      "\n",
      "  Gender. What is your Gender? CurrentAge. Current Age  \\\n",
      "0                       Female                  26  30   \n",
      "1                          NaN                     NaN   \n",
      "2                          NaN                     NaN   \n",
      "3                          NaN                     NaN   \n",
      "\n",
      "  Employment Type. Employment Type Classification. Classification  \\\n",
      "0              Temporary Full-time            Administration (AO)   \n",
      "1                              NaN                            NaN   \n",
      "2                              NaN                            NaN   \n",
      "3                              NaN                            NaN   \n",
      "\n",
      "  LengthofServiceOverall. Overall Length of Service at Institute (in years)  \\\n",
      "0                                                1-2                          \n",
      "1                                                NaN                          \n",
      "2                                                NaN                          \n",
      "3                                                NaN                          \n",
      "\n",
      "  LengthofServiceCurrent. Length of Service at current workplace (in years)  \n",
      "0                                                1-2                         \n",
      "1                                                NaN                         \n",
      "2                                                NaN                         \n",
      "3                                                NaN                         \n",
      "\n",
      "[4 rows x 72 columns]\n"
     ]
    }
   ],
   "source": [
    "dete_survey = pd.read_csv('dete_survey.csv', na_values = ['Not Stated'])\n",
    "tafe_survey = pd.read_csv('tafe_survey.csv')\n",
    "print(dete_survey.head(4))\n",
    "print(tafe_survey.head(4))"
   ]
  },
  {
   "cell_type": "code",
   "execution_count": 7,
   "metadata": {
    "collapsed": false
   },
   "outputs": [
    {
     "name": "stdout",
     "output_type": "stream",
     "text": [
      "<class 'pandas.core.frame.DataFrame'>\n",
      "RangeIndex: 822 entries, 0 to 821\n",
      "Data columns (total 56 columns):\n",
      "ID                                     822 non-null int64\n",
      "SeparationType                         822 non-null object\n",
      "Cease Date                             788 non-null object\n",
      "DETE Start Date                        749 non-null float64\n",
      "Role Start Date                        724 non-null float64\n",
      "Position                               817 non-null object\n",
      "Classification                         455 non-null object\n",
      "Region                                 717 non-null object\n",
      "Business Unit                          126 non-null object\n",
      "Employment Status                      817 non-null object\n",
      "Career move to public sector           822 non-null bool\n",
      "Career move to private sector          822 non-null bool\n",
      "Interpersonal conflicts                822 non-null bool\n",
      "Job dissatisfaction                    822 non-null bool\n",
      "Dissatisfaction with the department    822 non-null bool\n",
      "Physical work environment              822 non-null bool\n",
      "Lack of recognition                    822 non-null bool\n",
      "Lack of job security                   822 non-null bool\n",
      "Work location                          822 non-null bool\n",
      "Employment conditions                  822 non-null bool\n",
      "Maternity/family                       822 non-null bool\n",
      "Relocation                             822 non-null bool\n",
      "Study/Travel                           822 non-null bool\n",
      "Ill Health                             822 non-null bool\n",
      "Traumatic incident                     822 non-null bool\n",
      "Work life balance                      822 non-null bool\n",
      "Workload                               822 non-null bool\n",
      "None of the above                      822 non-null bool\n",
      "Professional Development               808 non-null object\n",
      "Opportunities for promotion            735 non-null object\n",
      "Staff morale                           816 non-null object\n",
      "Workplace issue                        788 non-null object\n",
      "Physical environment                   817 non-null object\n",
      "Worklife balance                       815 non-null object\n",
      "Stress and pressure support            810 non-null object\n",
      "Performance of supervisor              813 non-null object\n",
      "Peer support                           812 non-null object\n",
      "Initiative                             813 non-null object\n",
      "Skills                                 811 non-null object\n",
      "Coach                                  767 non-null object\n",
      "Career Aspirations                     746 non-null object\n",
      "Feedback                               792 non-null object\n",
      "Further PD                             768 non-null object\n",
      "Communication                          814 non-null object\n",
      "My say                                 812 non-null object\n",
      "Information                            816 non-null object\n",
      "Kept informed                          813 non-null object\n",
      "Wellness programs                      766 non-null object\n",
      "Health & Safety                        793 non-null object\n",
      "Gender                                 798 non-null object\n",
      "Age                                    811 non-null object\n",
      "Aboriginal                             16 non-null object\n",
      "Torres Strait                          3 non-null object\n",
      "South Sea                              7 non-null object\n",
      "Disability                             23 non-null object\n",
      "NESB                                   32 non-null object\n",
      "dtypes: bool(18), float64(2), int64(1), object(35)\n",
      "memory usage: 258.6+ KB\n",
      "None\n",
      "NaN    806\n",
      "Yes     16\n",
      "Name: Aboriginal, dtype: int64\n",
      "NaN    819\n",
      "Yes      3\n",
      "Name: Torres Strait, dtype: int64\n",
      "NaN    815\n",
      "Yes      7\n",
      "Name: South Sea, dtype: int64\n",
      "NaN    799\n",
      "Yes     23\n",
      "Name: Disability, dtype: int64\n",
      "NaN    790\n",
      "Yes     32\n",
      "Name: NESB, dtype: int64\n",
      "<class 'pandas.core.frame.DataFrame'>\n",
      "RangeIndex: 702 entries, 0 to 701\n",
      "Data columns (total 72 columns):\n",
      "Record ID                                                                                                                                                        702 non-null float64\n",
      "Institute                                                                                                                                                        702 non-null object\n",
      "WorkArea                                                                                                                                                         702 non-null object\n",
      "CESSATION YEAR                                                                                                                                                   695 non-null float64\n",
      "Reason for ceasing employment                                                                                                                                    701 non-null object\n",
      "Contributing Factors. Career Move - Public Sector                                                                                                                437 non-null object\n",
      "Contributing Factors. Career Move - Private Sector                                                                                                               437 non-null object\n",
      "Contributing Factors. Career Move - Self-employment                                                                                                              437 non-null object\n",
      "Contributing Factors. Ill Health                                                                                                                                 437 non-null object\n",
      "Contributing Factors. Maternity/Family                                                                                                                           437 non-null object\n",
      "Contributing Factors. Dissatisfaction                                                                                                                            437 non-null object\n",
      "Contributing Factors. Job Dissatisfaction                                                                                                                        437 non-null object\n",
      "Contributing Factors. Interpersonal Conflict                                                                                                                     437 non-null object\n",
      "Contributing Factors. Study                                                                                                                                      437 non-null object\n",
      "Contributing Factors. Travel                                                                                                                                     437 non-null object\n",
      "Contributing Factors. Other                                                                                                                                      437 non-null object\n",
      "Contributing Factors. NONE                                                                                                                                       437 non-null object\n",
      "Main Factor. Which of these was the main factor for leaving?                                                                                                     113 non-null object\n",
      "InstituteViews. Topic:1. I feel the senior leadership had a clear vision and direction                                                                           608 non-null object\n",
      "InstituteViews. Topic:2. I was given access to skills training to help me do my job better                                                                       613 non-null object\n",
      "InstituteViews. Topic:3. I was given adequate opportunities for personal development                                                                             610 non-null object\n",
      "InstituteViews. Topic:4. I was given adequate opportunities for promotion within %Institute]Q25LBL%                                                              608 non-null object\n",
      "InstituteViews. Topic:5. I felt the salary for the job was right for the responsibilities I had                                                                  615 non-null object\n",
      "InstituteViews. Topic:6. The organisation recognised when staff did good work                                                                                    607 non-null object\n",
      "InstituteViews. Topic:7. Management was generally supportive of me                                                                                               614 non-null object\n",
      "InstituteViews. Topic:8. Management was generally supportive of my team                                                                                          608 non-null object\n",
      "InstituteViews. Topic:9. I was kept informed of the changes in the organisation which would affect me                                                            610 non-null object\n",
      "InstituteViews. Topic:10. Staff morale was positive within the Institute                                                                                         602 non-null object\n",
      "InstituteViews. Topic:11. If I had a workplace issue it was dealt with quickly                                                                                   601 non-null object\n",
      "InstituteViews. Topic:12. If I had a workplace issue it was dealt with efficiently                                                                               597 non-null object\n",
      "InstituteViews. Topic:13. If I had a workplace issue it was dealt with discreetly                                                                                601 non-null object\n",
      "WorkUnitViews. Topic:14. I was satisfied with the quality of the management and supervision within my work unit                                                  609 non-null object\n",
      "WorkUnitViews. Topic:15. I worked well with my colleagues                                                                                                        605 non-null object\n",
      "WorkUnitViews. Topic:16. My job was challenging and interesting                                                                                                  607 non-null object\n",
      "WorkUnitViews. Topic:17. I was encouraged to use my initiative in the course of my work                                                                          610 non-null object\n",
      "WorkUnitViews. Topic:18. I had sufficient contact with other people in my job                                                                                    613 non-null object\n",
      "WorkUnitViews. Topic:19. I was given adequate support and co-operation by my peers to enable me to do my job                                                     609 non-null object\n",
      "WorkUnitViews. Topic:20. I was able to use the full range of my skills in my job                                                                                 609 non-null object\n",
      "WorkUnitViews. Topic:21. I was able to use the full range of my abilities in my job. ; Category:Level of Agreement; Question:YOUR VIEWS ABOUT YOUR WORK UNIT]    608 non-null object\n",
      "WorkUnitViews. Topic:22. I was able to use the full range of my knowledge in my job                                                                              608 non-null object\n",
      "WorkUnitViews. Topic:23. My job provided sufficient variety                                                                                                      611 non-null object\n",
      "WorkUnitViews. Topic:24. I was able to cope with the level of stress and pressure in my job                                                                      610 non-null object\n",
      "WorkUnitViews. Topic:25. My job allowed me to balance the demands of work and family to my satisfaction                                                          611 non-null object\n",
      "WorkUnitViews. Topic:26. My supervisor gave me adequate personal recognition and feedback on my performance                                                      606 non-null object\n",
      "WorkUnitViews. Topic:27. My working environment was satisfactory e.g. sufficient space, good lighting, suitable seating and working area                         610 non-null object\n",
      "WorkUnitViews. Topic:28. I was given the opportunity to mentor and coach others in order for me to pass on my skills and knowledge prior to my cessation date    609 non-null object\n",
      "WorkUnitViews. Topic:29. There was adequate communication between staff in my unit                                                                               603 non-null object\n",
      "WorkUnitViews. Topic:30. Staff morale was positive within my work unit                                                                                           606 non-null object\n",
      "Induction. Did you undertake Workplace Induction?                                                                                                                619 non-null object\n",
      "InductionInfo. Topic:Did you undertake a Corporate Induction?                                                                                                    432 non-null object\n",
      "InductionInfo. Topic:Did you undertake a Institute Induction?                                                                                                    483 non-null object\n",
      "InductionInfo. Topic: Did you undertake Team Induction?                                                                                                          440 non-null object\n",
      "InductionInfo. Face to Face Topic:Did you undertake a Corporate Induction; Category:How it was conducted?                                                        555 non-null object\n",
      "InductionInfo. On-line Topic:Did you undertake a Corporate Induction; Category:How it was conducted?                                                             555 non-null object\n",
      "InductionInfo. Induction Manual Topic:Did you undertake a Corporate Induction?                                                                                   555 non-null object\n",
      "InductionInfo. Face to Face Topic:Did you undertake a Institute Induction?                                                                                       530 non-null object\n",
      "InductionInfo. On-line Topic:Did you undertake a Institute Induction?                                                                                            555 non-null object\n",
      "InductionInfo. Induction Manual Topic:Did you undertake a Institute Induction?                                                                                   553 non-null object\n",
      "InductionInfo. Face to Face Topic: Did you undertake Team Induction; Category?                                                                                   555 non-null object\n",
      "InductionInfo. On-line Topic: Did you undertake Team Induction?process you undertook and how it was conducted.]                                                  555 non-null object\n",
      "InductionInfo. Induction Manual Topic: Did you undertake Team Induction?                                                                                         555 non-null object\n",
      "Workplace. Topic:Did you and your Manager develop a Performance and Professional Development Plan (PPDP)?                                                        608 non-null object\n",
      "Workplace. Topic:Does your workplace promote a work culture free from all forms of unlawful discrimination?                                                      594 non-null object\n",
      "Workplace. Topic:Does your workplace promote and practice the principles of employment equity?                                                                   587 non-null object\n",
      "Workplace. Topic:Does your workplace value the diversity of its employees?                                                                                       586 non-null object\n",
      "Workplace. Topic:Would you recommend the Institute as an employer to others?                                                                                     581 non-null object\n",
      "Gender. What is your Gender?                                                                                                                                     596 non-null object\n",
      "CurrentAge. Current Age                                                                                                                                          596 non-null object\n",
      "Employment Type. Employment Type                                                                                                                                 596 non-null object\n",
      "Classification. Classification                                                                                                                                   596 non-null object\n",
      "LengthofServiceOverall. Overall Length of Service at Institute (in years)                                                                                        596 non-null object\n",
      "LengthofServiceCurrent. Length of Service at current workplace (in years)                                                                                        596 non-null object\n",
      "dtypes: float64(2), object(70)\n",
      "memory usage: 395.0+ KB\n",
      "None\n"
     ]
    }
   ],
   "source": [
    "print(dete_survey.info())\n",
    "print(dete_survey['Aboriginal'].value_counts(dropna=False))\n",
    "print(dete_survey['Torres Strait'].value_counts(dropna=False))\n",
    "print(dete_survey['South Sea'].value_counts(dropna=False))\n",
    "print(dete_survey['Disability'].value_counts(dropna=False))\n",
    "print(dete_survey['NESB'].value_counts(dropna=False))\n",
    "print(tafe_survey.info())"
   ]
  },
  {
   "cell_type": "markdown",
   "metadata": {},
   "source": [
    "1. The **last 5 columns** of dete survey contains mainly nulls so probably do not contain any usefull information. \n",
    "2. Some of the other columns also have NaN values\n",
    "3. The columns of tafe survey need to be renamed and the binary YES/NO questions should be converted to True/False for easier evaluation\n"
   ]
  },
  {
   "cell_type": "code",
   "execution_count": 8,
   "metadata": {
    "collapsed": true
   },
   "outputs": [],
   "source": [
    "dete_survey_updated = dete_survey.drop(columns = dete_survey.columns[28:49], axis = 1)\n",
    "tafe_survey_updated = tafe_survey.drop(columns = tafe_survey.columns[17:66], axis = 1)"
   ]
  },
  {
   "cell_type": "markdown",
   "metadata": {},
   "source": [
    "We drop the columns which just try to explain the reason for leaving, we are just interested in whether they were satisfied with the job or not. This information is already available from the columns of the dataframe"
   ]
  },
  {
   "cell_type": "code",
   "execution_count": 9,
   "metadata": {
    "collapsed": false
   },
   "outputs": [
    {
     "name": "stdout",
     "output_type": "stream",
     "text": [
      "<class 'pandas.core.frame.DataFrame'>\n",
      "RangeIndex: 822 entries, 0 to 821\n",
      "Data columns (total 35 columns):\n",
      "id                                     822 non-null int64\n",
      "separationtype                         822 non-null object\n",
      "cease_date                             788 non-null object\n",
      "dete_start_date                        749 non-null float64\n",
      "role_start_date                        724 non-null float64\n",
      "position                               817 non-null object\n",
      "classification                         455 non-null object\n",
      "region                                 717 non-null object\n",
      "business_unit                          126 non-null object\n",
      "employment_status                      817 non-null object\n",
      "career_move_to_public_sector           822 non-null bool\n",
      "career_move_to_private_sector          822 non-null bool\n",
      "interpersonal_conflicts                822 non-null bool\n",
      "job_dissatisfaction                    822 non-null bool\n",
      "dissatisfaction_with_the_department    822 non-null bool\n",
      "physical_work_environment              822 non-null bool\n",
      "lack_of_recognition                    822 non-null bool\n",
      "lack_of_job_security                   822 non-null bool\n",
      "work_location                          822 non-null bool\n",
      "employment_conditions                  822 non-null bool\n",
      "maternity/family                       822 non-null bool\n",
      "relocation                             822 non-null bool\n",
      "study/travel                           822 non-null bool\n",
      "ill_health                             822 non-null bool\n",
      "traumatic_incident                     822 non-null bool\n",
      "work_life_balance                      822 non-null bool\n",
      "workload                               822 non-null bool\n",
      "none_of_the_above                      822 non-null bool\n",
      "gender                                 798 non-null object\n",
      "age                                    811 non-null object\n",
      "aboriginal                             16 non-null object\n",
      "torres_strait                          3 non-null object\n",
      "south_sea                              7 non-null object\n",
      "disability                             23 non-null object\n",
      "nesb                                   32 non-null object\n",
      "dtypes: bool(18), float64(2), int64(1), object(14)\n",
      "memory usage: 123.7+ KB\n"
     ]
    }
   ],
   "source": [
    "dete_survey_updated.columns = dete_survey_updated.columns.str.replace(' ','_').str.strip().str.lower()\n",
    "dete_survey_updated.info()"
   ]
  },
  {
   "cell_type": "code",
   "execution_count": 12,
   "metadata": {
    "collapsed": false
   },
   "outputs": [
    {
     "name": "stdout",
     "output_type": "stream",
     "text": [
      "<class 'pandas.core.frame.DataFrame'>\n",
      "RangeIndex: 702 entries, 0 to 701\n",
      "Data columns (total 23 columns):\n",
      "id                                                     702 non-null float64\n",
      "Institute                                              702 non-null object\n",
      "WorkArea                                               702 non-null object\n",
      "cease_date                                             695 non-null float64\n",
      "separationtype                                         701 non-null object\n",
      "Contributing Factors. Career Move - Public Sector      437 non-null object\n",
      "Contributing Factors. Career Move - Private Sector     437 non-null object\n",
      "Contributing Factors. Career Move - Self-employment    437 non-null object\n",
      "Contributing Factors. Ill Health                       437 non-null object\n",
      "Contributing Factors. Maternity/Family                 437 non-null object\n",
      "Contributing Factors. Dissatisfaction                  437 non-null object\n",
      "Contributing Factors. Job Dissatisfaction              437 non-null object\n",
      "Contributing Factors. Interpersonal Conflict           437 non-null object\n",
      "Contributing Factors. Study                            437 non-null object\n",
      "Contributing Factors. Travel                           437 non-null object\n",
      "Contributing Factors. Other                            437 non-null object\n",
      "Contributing Factors. NONE                             437 non-null object\n",
      "gender                                                 596 non-null object\n",
      "age                                                    596 non-null object\n",
      "employment_status                                      596 non-null object\n",
      "position                                               596 non-null object\n",
      "institute_service                                      596 non-null object\n",
      "role_service                                           596 non-null object\n",
      "dtypes: float64(2), object(21)\n",
      "memory usage: 126.2+ KB\n"
     ]
    }
   ],
   "source": [
    "new_names = {'Record ID':'id', 'CESSATION YEAR': 'cease_date','Reason for ceasing employment': 'separationtype',\n",
    "'Gender. What is your Gender?': 'gender','CurrentAge. Current Age': 'age','Employment Type. Employment Type': 'employment_status',\n",
    "'Classification. Classification': 'position',\n",
    "'LengthofServiceOverall. Overall Length of Service at Institute (in years)': 'institute_service',\n",
    "'LengthofServiceCurrent. Length of Service at current workplace (in years)': 'role_service'}\n",
    "tafe_survey_updated.rename(new_names, inplace = True, axis = 1)\n",
    "tafe_survey_updated.info()"
   ]
  },
  {
   "cell_type": "code",
   "execution_count": 13,
   "metadata": {
    "collapsed": false
   },
   "outputs": [
    {
     "name": "stdout",
     "output_type": "stream",
     "text": [
      "   id                    separationtype cease_date  dete_start_date  \\\n",
      "0   1             Ill Health Retirement    08/2012           1984.0   \n",
      "1   2  Voluntary Early Retirement (VER)    08/2012              NaN   \n",
      "2   3  Voluntary Early Retirement (VER)    05/2012           2011.0   \n",
      "3   4         Resignation-Other reasons    05/2012           2005.0   \n",
      "4   5                    Age Retirement    05/2012           1970.0   \n",
      "\n",
      "   role_start_date                                      position  \\\n",
      "0           2004.0                                Public Servant   \n",
      "1              NaN                                Public Servant   \n",
      "2           2011.0                               Schools Officer   \n",
      "3           2006.0                                       Teacher   \n",
      "4           1989.0  Head of Curriculum/Head of Special Education   \n",
      "\n",
      "  classification              region                      business_unit  \\\n",
      "0        A01-A04      Central Office  Corporate Strategy and Peformance   \n",
      "1        AO5-AO7      Central Office  Corporate Strategy and Peformance   \n",
      "2            NaN      Central Office               Education Queensland   \n",
      "3        Primary  Central Queensland                                NaN   \n",
      "4            NaN          South East                                NaN   \n",
      "\n",
      "     employment_status  ...   work_life_balance  workload  none_of_the_above  \\\n",
      "0  Permanent Full-time  ...               False     False               True   \n",
      "1  Permanent Full-time  ...               False     False              False   \n",
      "2  Permanent Full-time  ...               False     False               True   \n",
      "3  Permanent Full-time  ...               False     False              False   \n",
      "4  Permanent Full-time  ...                True     False              False   \n",
      "\n",
      "   gender          age  aboriginal  torres_strait  south_sea  disability  nesb  \n",
      "0    Male        56-60         NaN            NaN        NaN         NaN   Yes  \n",
      "1    Male        56-60         NaN            NaN        NaN         NaN   NaN  \n",
      "2    Male  61 or older         NaN            NaN        NaN         NaN   NaN  \n",
      "3  Female        36-40         NaN            NaN        NaN         NaN   NaN  \n",
      "4  Female  61 or older         NaN            NaN        NaN         NaN   NaN  \n",
      "\n",
      "[5 rows x 35 columns]\n",
      "             id                              Institute  \\\n",
      "0  6.341330e+17  Southern Queensland Institute of TAFE   \n",
      "1  6.341337e+17            Mount Isa Institute of TAFE   \n",
      "2  6.341388e+17            Mount Isa Institute of TAFE   \n",
      "3  6.341399e+17            Mount Isa Institute of TAFE   \n",
      "4  6.341466e+17  Southern Queensland Institute of TAFE   \n",
      "\n",
      "                   WorkArea  cease_date    separationtype  \\\n",
      "0  Non-Delivery (corporate)      2010.0  Contract Expired   \n",
      "1  Non-Delivery (corporate)      2010.0        Retirement   \n",
      "2       Delivery (teaching)      2010.0        Retirement   \n",
      "3  Non-Delivery (corporate)      2010.0       Resignation   \n",
      "4       Delivery (teaching)      2010.0       Resignation   \n",
      "\n",
      "  Contributing Factors. Career Move - Public Sector   \\\n",
      "0                                                NaN   \n",
      "1                                                  -   \n",
      "2                                                  -   \n",
      "3                                                  -   \n",
      "4                                                  -   \n",
      "\n",
      "  Contributing Factors. Career Move - Private Sector   \\\n",
      "0                                                NaN    \n",
      "1                                                  -    \n",
      "2                                                  -    \n",
      "3                                                  -    \n",
      "4                       Career Move - Private Sector    \n",
      "\n",
      "  Contributing Factors. Career Move - Self-employment  \\\n",
      "0                                                NaN    \n",
      "1                                                  -    \n",
      "2                                                  -    \n",
      "3                                                  -    \n",
      "4                                                  -    \n",
      "\n",
      "  Contributing Factors. Ill Health Contributing Factors. Maternity/Family  \\\n",
      "0                              NaN                                    NaN   \n",
      "1                                -                                      -   \n",
      "2                                -                                      -   \n",
      "3                                -                                      -   \n",
      "4                                -                                      -   \n",
      "\n",
      "      ...      Contributing Factors. Study Contributing Factors. Travel  \\\n",
      "0     ...                              NaN                          NaN   \n",
      "1     ...                                -                       Travel   \n",
      "2     ...                                -                            -   \n",
      "3     ...                                -                       Travel   \n",
      "4     ...                                -                            -   \n",
      "\n",
      "  Contributing Factors. Other Contributing Factors. NONE  gender     age  \\\n",
      "0                         NaN                        NaN  Female  26  30   \n",
      "1                           -                          -     NaN     NaN   \n",
      "2                           -                       NONE     NaN     NaN   \n",
      "3                           -                          -     NaN     NaN   \n",
      "4                           -                          -    Male  41  45   \n",
      "\n",
      "     employment_status                 position institute_service role_service  \n",
      "0  Temporary Full-time      Administration (AO)               1-2          1-2  \n",
      "1                  NaN                      NaN               NaN          NaN  \n",
      "2                  NaN                      NaN               NaN          NaN  \n",
      "3                  NaN                      NaN               NaN          NaN  \n",
      "4  Permanent Full-time  Teacher (including LVT)               3-4          3-4  \n",
      "\n",
      "[5 rows x 23 columns]\n"
     ]
    }
   ],
   "source": [
    "print(dete_survey_updated.head(5))\n",
    "print(tafe_survey_updated.head())"
   ]
  },
  {
   "cell_type": "code",
   "execution_count": 15,
   "metadata": {
    "collapsed": false
   },
   "outputs": [
    {
     "name": "stdout",
     "output_type": "stream",
     "text": [
      "Age Retirement                          285\n",
      "Resignation-Other reasons               150\n",
      "Resignation-Other employer               91\n",
      "Resignation-Move overseas/interstate     70\n",
      "Voluntary Early Retirement (VER)         67\n",
      "Ill Health Retirement                    61\n",
      "Other                                    49\n",
      "Contract Expired                         34\n",
      "Termination                              15\n",
      "Name: separationtype, dtype: int64\n",
      "Resignation                 340\n",
      "Contract Expired            127\n",
      "Retrenchment/ Redundancy    104\n",
      "Retirement                   82\n",
      "Transfer                     25\n",
      "Termination                  23\n",
      "Name: separationtype, dtype: int64\n"
     ]
    }
   ],
   "source": [
    "print(dete_survey_updated['separationtype'].value_counts())\n",
    "print(tafe_survey_updated['separationtype'].value_counts())"
   ]
  },
  {
   "cell_type": "code",
   "execution_count": 40,
   "metadata": {
    "collapsed": false
   },
   "outputs": [
    {
     "name": "stdout",
     "output_type": "stream",
     "text": [
      "    id                        separationtype cease_date  dete_start_date  \\\n",
      "3    4             Resignation-Other reasons    05/2012           2005.0   \n",
      "5    6             Resignation-Other reasons    05/2012           1994.0   \n",
      "8    9             Resignation-Other reasons    07/2012           2009.0   \n",
      "9   10            Resignation-Other employer       2012           1997.0   \n",
      "11  12  Resignation-Move overseas/interstate       2012           2009.0   \n",
      "\n",
      "    role_start_date          position classification                region  \\\n",
      "3            2006.0           Teacher        Primary    Central Queensland   \n",
      "5            1997.0  Guidance Officer            NaN        Central Office   \n",
      "8            2009.0           Teacher      Secondary      North Queensland   \n",
      "9            2008.0      Teacher Aide            NaN                   NaN   \n",
      "11           2009.0           Teacher      Secondary  Far North Queensland   \n",
      "\n",
      "           business_unit    employment_status  ...   work_life_balance  \\\n",
      "3                    NaN  Permanent Full-time  ...               False   \n",
      "5   Education Queensland  Permanent Full-time  ...               False   \n",
      "8                    NaN  Permanent Full-time  ...               False   \n",
      "9                    NaN  Permanent Part-time  ...               False   \n",
      "11                   NaN  Permanent Full-time  ...               False   \n",
      "\n",
      "    workload  none_of_the_above  gender    age  aboriginal  torres_strait  \\\n",
      "3      False              False  Female  36-40         NaN            NaN   \n",
      "5      False              False  Female  41-45         NaN            NaN   \n",
      "8      False              False  Female  31-35         NaN            NaN   \n",
      "9      False              False  Female  46-50         NaN            NaN   \n",
      "11     False              False    Male  31-35         NaN            NaN   \n",
      "\n",
      "    south_sea  disability  nesb  \n",
      "3         NaN         NaN   NaN  \n",
      "5         NaN         NaN   NaN  \n",
      "8         NaN         NaN   NaN  \n",
      "9         NaN         NaN   NaN  \n",
      "11        NaN         NaN   NaN  \n",
      "\n",
      "[5 rows x 35 columns]\n",
      "             id                              Institute  \\\n",
      "3  6.341399e+17            Mount Isa Institute of TAFE   \n",
      "4  6.341466e+17  Southern Queensland Institute of TAFE   \n",
      "5  6.341475e+17  Southern Queensland Institute of TAFE   \n",
      "6  6.341520e+17         Barrier Reef Institute of TAFE   \n",
      "7  6.341537e+17  Southern Queensland Institute of TAFE   \n",
      "\n",
      "                   WorkArea  cease_date separationtype  \\\n",
      "3  Non-Delivery (corporate)      2010.0    Resignation   \n",
      "4       Delivery (teaching)      2010.0    Resignation   \n",
      "5       Delivery (teaching)      2010.0    Resignation   \n",
      "6  Non-Delivery (corporate)      2010.0    Resignation   \n",
      "7       Delivery (teaching)      2010.0    Resignation   \n",
      "\n",
      "  Contributing Factors. Career Move - Public Sector   \\\n",
      "3                                                  -   \n",
      "4                                                  -   \n",
      "5                                                  -   \n",
      "6                                                  -   \n",
      "7                                                  -   \n",
      "\n",
      "  Contributing Factors. Career Move - Private Sector   \\\n",
      "3                                                  -    \n",
      "4                       Career Move - Private Sector    \n",
      "5                                                  -    \n",
      "6                       Career Move - Private Sector    \n",
      "7                                                  -    \n",
      "\n",
      "  Contributing Factors. Career Move - Self-employment  \\\n",
      "3                                                  -    \n",
      "4                                                  -    \n",
      "5                                                  -    \n",
      "6                                                  -    \n",
      "7                                                  -    \n",
      "\n",
      "  Contributing Factors. Ill Health Contributing Factors. Maternity/Family  \\\n",
      "3                                -                                      -   \n",
      "4                                -                                      -   \n",
      "5                                -                                      -   \n",
      "6                                -                       Maternity/Family   \n",
      "7                                -                                      -   \n",
      "\n",
      "      ...      Contributing Factors. Study Contributing Factors. Travel  \\\n",
      "3     ...                                -                       Travel   \n",
      "4     ...                                -                            -   \n",
      "5     ...                                -                            -   \n",
      "6     ...                                -                            -   \n",
      "7     ...                                -                            -   \n",
      "\n",
      "  Contributing Factors. Other Contributing Factors. NONE  gender  \\\n",
      "3                           -                          -     NaN   \n",
      "4                           -                          -    Male   \n",
      "5                       Other                          -  Female   \n",
      "6                       Other                          -    Male   \n",
      "7                       Other                          -    Male   \n",
      "\n",
      "             age    employment_status                 position  \\\n",
      "3            NaN                  NaN                      NaN   \n",
      "4         41  45  Permanent Full-time  Teacher (including LVT)   \n",
      "5    56 or older      Contract/casual  Teacher (including LVT)   \n",
      "6  20 or younger  Temporary Full-time      Administration (AO)   \n",
      "7         46  50  Permanent Full-time  Teacher (including LVT)   \n",
      "\n",
      "  institute_service role_service  \n",
      "3               NaN          NaN  \n",
      "4               3-4          3-4  \n",
      "5              7-10         7-10  \n",
      "6               3-4          3-4  \n",
      "7               3-4          3-4  \n",
      "\n",
      "[5 rows x 23 columns]\n"
     ]
    }
   ],
   "source": [
    "dete_resignations = dete_survey_updated[dete_survey_updated['separationtype'].str.contains('Resignation')]\n",
    "tafe_resignations = tafe_survey_updated[tafe_survey_updated['separationtype'] == 'Resignation']\n",
    "print(dete_resignations.head())\n",
    "print(tafe_resignations.head())"
   ]
  },
  {
   "cell_type": "markdown",
   "metadata": {},
   "source": [
    "For the moment the plan is to focus only on the **Resignation** subset of the data, so we have chosen the portion of the data where the reason to leave contained the string *Resignation*"
   ]
  },
  {
   "cell_type": "code",
   "execution_count": 41,
   "metadata": {
    "collapsed": false
   },
   "outputs": [
    {
     "name": "stderr",
     "output_type": "stream",
     "text": [
      "/dataquest/system/env/python3/lib/python3.4/site-packages/ipykernel/__main__.py:1: SettingWithCopyWarning: \n",
      "A value is trying to be set on a copy of a slice from a DataFrame.\n",
      "Try using .loc[row_indexer,col_indexer] = value instead\n",
      "\n",
      "See the caveats in the documentation: http://pandas.pydata.org/pandas-docs/stable/indexing.html#indexing-view-versus-copy\n",
      "  if __name__ == '__main__':\n",
      "/dataquest/system/env/python3/lib/python3.4/site-packages/ipykernel/__main__.py:2: SettingWithCopyWarning: \n",
      "A value is trying to be set on a copy of a slice from a DataFrame.\n",
      "Try using .loc[row_indexer,col_indexer] = value instead\n",
      "\n",
      "See the caveats in the documentation: http://pandas.pydata.org/pandas-docs/stable/indexing.html#indexing-view-versus-copy\n",
      "  from ipykernel import kernelapp as app\n"
     ]
    },
    {
     "data": {
      "text/plain": [
       "2013.0    146\n",
       "2012.0    129\n",
       "2014.0     22\n",
       "2010.0      2\n",
       "2006.0      1\n",
       "Name: cease_date, dtype: int64"
      ]
     },
     "execution_count": 41,
     "metadata": {},
     "output_type": "execute_result"
    }
   ],
   "source": [
    "dete_resignations['cease_date'] = dete_resignations['cease_date'].str.split('/').str.get(-1)\n",
    "dete_resignations['cease_date'] = dete_resignations['cease_date'].astype(\"float\")\n",
    "dete_resignations['cease_date'].value_counts()"
   ]
  },
  {
   "cell_type": "code",
   "execution_count": 43,
   "metadata": {
    "collapsed": false
   },
   "outputs": [
    {
     "name": "stdout",
     "output_type": "stream",
     "text": [
      "2006.0      1\n",
      "2010.0      2\n",
      "2014.0     22\n",
      "2012.0    129\n",
      "2013.0    146\n",
      "Name: cease_date, dtype: int64\n",
      "1963.0     1\n",
      "1971.0     1\n",
      "1972.0     1\n",
      "1984.0     1\n",
      "1977.0     1\n",
      "1987.0     1\n",
      "1975.0     1\n",
      "1973.0     1\n",
      "1982.0     1\n",
      "1974.0     2\n",
      "1983.0     2\n",
      "1976.0     2\n",
      "1986.0     3\n",
      "1985.0     3\n",
      "2001.0     3\n",
      "1995.0     4\n",
      "1988.0     4\n",
      "1989.0     4\n",
      "1991.0     4\n",
      "1997.0     5\n",
      "1980.0     5\n",
      "1993.0     5\n",
      "1990.0     5\n",
      "1994.0     6\n",
      "2003.0     6\n",
      "1998.0     6\n",
      "1992.0     6\n",
      "2002.0     6\n",
      "1996.0     6\n",
      "1999.0     8\n",
      "2000.0     9\n",
      "2013.0    10\n",
      "2009.0    13\n",
      "2006.0    13\n",
      "2004.0    14\n",
      "2005.0    15\n",
      "2010.0    17\n",
      "2012.0    21\n",
      "2007.0    21\n",
      "2008.0    22\n",
      "2011.0    24\n",
      "Name: dete_start_date, dtype: int64\n",
      "2009.0      2\n",
      "2013.0     55\n",
      "2010.0     68\n",
      "2012.0     94\n",
      "2011.0    116\n",
      "Name: cease_date, dtype: int64\n"
     ]
    }
   ],
   "source": [
    "print(dete_resignations['cease_date'].value_counts().sort_values())\n",
    "print(dete_resignations['dete_start_date'].value_counts().sort_values())\n",
    "print(tafe_resignations['cease_date'].value_counts().sort_values())"
   ]
  },
  {
   "cell_type": "code",
   "execution_count": 52,
   "metadata": {
    "collapsed": false
   },
   "outputs": [
    {
     "data": {
      "text/plain": [
       "<matplotlib.axes._subplots.AxesSubplot at 0x7f5f2159eda0>"
      ]
     },
     "execution_count": 52,
     "metadata": {},
     "output_type": "execute_result"
    },
    {
     "data": {
      "image/png": "[encoded data removed]",
      "text/plain": [
       "<matplotlib.figure.Figure at 0x7f5f2606dbe0>"
      ]
     },
     "metadata": {},
     "output_type": "display_data"
    }
   ],
   "source": [
    "%matplotlib inline \n",
    "dete_resignations.boxplot(column='cease_date')"
   ]
  },
  {
   "cell_type": "code",
   "execution_count": 53,
   "metadata": {
    "collapsed": false
   },
   "outputs": [
    {
     "data": {
      "text/plain": [
       "<matplotlib.axes._subplots.AxesSubplot at 0x7f5f21550a58>"
      ]
     },
     "execution_count": 53,
     "metadata": {},
     "output_type": "execute_result"
    },
    {
     "data": {
      "image/png": "[encoded data removed]",
      "text/plain": [
       "<matplotlib.figure.Figure at 0x7f5f214d98d0>"
      ]
     },
     "metadata": {},
     "output_type": "display_data"
    }
   ],
   "source": [
    "dete_resignations.boxplot(column='dete_start_date')"
   ]
  },
  {
   "cell_type": "code",
   "execution_count": 57,
   "metadata": {
    "collapsed": false
   },
   "outputs": [
    {
     "data": {
      "text/plain": [
       "<matplotlib.axes._subplots.AxesSubplot at 0x7f5f212ba898>"
      ]
     },
     "execution_count": 57,
     "metadata": {},
     "output_type": "execute_result"
    },
    {
     "data": {
      "image/png": "[encoded data removed]",
      "text/plain": [
       "<matplotlib.figure.Figure at 0x7f5f212c2128>"
      ]
     },
     "metadata": {},
     "output_type": "display_data"
    }
   ],
   "source": [
    "tafe_resignations.boxplot(column='cease_date')"
   ]
  },
  {
   "cell_type": "code",
   "execution_count": 61,
   "metadata": {
    "collapsed": false
   },
   "outputs": [
    {
     "name": "stderr",
     "output_type": "stream",
     "text": [
      "/dataquest/system/env/python3/lib/python3.4/site-packages/ipykernel/__main__.py:1: SettingWithCopyWarning:\n",
      "\n",
      "\n",
      "A value is trying to be set on a copy of a slice from a DataFrame.\n",
      "Try using .loc[row_indexer,col_indexer] = value instead\n",
      "\n",
      "See the caveats in the documentation: http://pandas.pydata.org/pandas-docs/stable/indexing.html#indexing-view-versus-copy\n",
      "\n"
     ]
    },
    {
     "data": {
      "text/html": [
       "<div>\n",
       "<style scoped>\n",
       "    .dataframe tbody tr th:only-of-type {\n",
       "        vertical-align: middle;\n",
       "    }\n",
       "\n",
       "    .dataframe tbody tr th {\n",
       "        vertical-align: top;\n",
       "    }\n",
       "\n",
       "    .dataframe thead th {\n",
       "        text-align: right;\n",
       "    }\n",
       "</style>\n",
       "<table border=\"1\" class=\"dataframe\">\n",
       "  <thead>\n",
       "    <tr style=\"text-align: right;\">\n",
       "      <th></th>\n",
       "      <th>id</th>\n",
       "      <th>separationtype</th>\n",
       "      <th>cease_date</th>\n",
       "      <th>dete_start_date</th>\n",
       "      <th>role_start_date</th>\n",
       "      <th>position</th>\n",
       "      <th>classification</th>\n",
       "      <th>region</th>\n",
       "      <th>business_unit</th>\n",
       "      <th>employment_status</th>\n",
       "      <th>...</th>\n",
       "      <th>workload</th>\n",
       "      <th>none_of_the_above</th>\n",
       "      <th>gender</th>\n",
       "      <th>age</th>\n",
       "      <th>aboriginal</th>\n",
       "      <th>torres_strait</th>\n",
       "      <th>south_sea</th>\n",
       "      <th>disability</th>\n",
       "      <th>nesb</th>\n",
       "      <th>institute_service</th>\n",
       "    </tr>\n",
       "  </thead>\n",
       "  <tbody>\n",
       "    <tr>\n",
       "      <th>3</th>\n",
       "      <td>4</td>\n",
       "      <td>Resignation-Other reasons</td>\n",
       "      <td>2012.0</td>\n",
       "      <td>2005.0</td>\n",
       "      <td>2006.0</td>\n",
       "      <td>Teacher</td>\n",
       "      <td>Primary</td>\n",
       "      <td>Central Queensland</td>\n",
       "      <td>NaN</td>\n",
       "      <td>Permanent Full-time</td>\n",
       "      <td>...</td>\n",
       "      <td>False</td>\n",
       "      <td>False</td>\n",
       "      <td>Female</td>\n",
       "      <td>36-40</td>\n",
       "      <td>NaN</td>\n",
       "      <td>NaN</td>\n",
       "      <td>NaN</td>\n",
       "      <td>NaN</td>\n",
       "      <td>NaN</td>\n",
       "      <td>7.0</td>\n",
       "    </tr>\n",
       "    <tr>\n",
       "      <th>5</th>\n",
       "      <td>6</td>\n",
       "      <td>Resignation-Other reasons</td>\n",
       "      <td>2012.0</td>\n",
       "      <td>1994.0</td>\n",
       "      <td>1997.0</td>\n",
       "      <td>Guidance Officer</td>\n",
       "      <td>NaN</td>\n",
       "      <td>Central Office</td>\n",
       "      <td>Education Queensland</td>\n",
       "      <td>Permanent Full-time</td>\n",
       "      <td>...</td>\n",
       "      <td>False</td>\n",
       "      <td>False</td>\n",
       "      <td>Female</td>\n",
       "      <td>41-45</td>\n",
       "      <td>NaN</td>\n",
       "      <td>NaN</td>\n",
       "      <td>NaN</td>\n",
       "      <td>NaN</td>\n",
       "      <td>NaN</td>\n",
       "      <td>18.0</td>\n",
       "    </tr>\n",
       "    <tr>\n",
       "      <th>8</th>\n",
       "      <td>9</td>\n",
       "      <td>Resignation-Other reasons</td>\n",
       "      <td>2012.0</td>\n",
       "      <td>2009.0</td>\n",
       "      <td>2009.0</td>\n",
       "      <td>Teacher</td>\n",
       "      <td>Secondary</td>\n",
       "      <td>North Queensland</td>\n",
       "      <td>NaN</td>\n",
       "      <td>Permanent Full-time</td>\n",
       "      <td>...</td>\n",
       "      <td>False</td>\n",
       "      <td>False</td>\n",
       "      <td>Female</td>\n",
       "      <td>31-35</td>\n",
       "      <td>NaN</td>\n",
       "      <td>NaN</td>\n",
       "      <td>NaN</td>\n",
       "      <td>NaN</td>\n",
       "      <td>NaN</td>\n",
       "      <td>3.0</td>\n",
       "    </tr>\n",
       "    <tr>\n",
       "      <th>9</th>\n",
       "      <td>10</td>\n",
       "      <td>Resignation-Other employer</td>\n",
       "      <td>2012.0</td>\n",
       "      <td>1997.0</td>\n",
       "      <td>2008.0</td>\n",
       "      <td>Teacher Aide</td>\n",
       "      <td>NaN</td>\n",
       "      <td>NaN</td>\n",
       "      <td>NaN</td>\n",
       "      <td>Permanent Part-time</td>\n",
       "      <td>...</td>\n",
       "      <td>False</td>\n",
       "      <td>False</td>\n",
       "      <td>Female</td>\n",
       "      <td>46-50</td>\n",
       "      <td>NaN</td>\n",
       "      <td>NaN</td>\n",
       "      <td>NaN</td>\n",
       "      <td>NaN</td>\n",
       "      <td>NaN</td>\n",
       "      <td>15.0</td>\n",
       "    </tr>\n",
       "    <tr>\n",
       "      <th>11</th>\n",
       "      <td>12</td>\n",
       "      <td>Resignation-Move overseas/interstate</td>\n",
       "      <td>2012.0</td>\n",
       "      <td>2009.0</td>\n",
       "      <td>2009.0</td>\n",
       "      <td>Teacher</td>\n",
       "      <td>Secondary</td>\n",
       "      <td>Far North Queensland</td>\n",
       "      <td>NaN</td>\n",
       "      <td>Permanent Full-time</td>\n",
       "      <td>...</td>\n",
       "      <td>False</td>\n",
       "      <td>False</td>\n",
       "      <td>Male</td>\n",
       "      <td>31-35</td>\n",
       "      <td>NaN</td>\n",
       "      <td>NaN</td>\n",
       "      <td>NaN</td>\n",
       "      <td>NaN</td>\n",
       "      <td>NaN</td>\n",
       "      <td>3.0</td>\n",
       "    </tr>\n",
       "  </tbody>\n",
       "</table>\n",
       "<p>5 rows × 36 columns</p>\n",
       "</div>"
      ],
      "text/plain": [
       "    id                        separationtype  cease_date  dete_start_date  \\\n",
       "3    4             Resignation-Other reasons      2012.0           2005.0   \n",
       "5    6             Resignation-Other reasons      2012.0           1994.0   \n",
       "8    9             Resignation-Other reasons      2012.0           2009.0   \n",
       "9   10            Resignation-Other employer      2012.0           1997.0   \n",
       "11  12  Resignation-Move overseas/interstate      2012.0           2009.0   \n",
       "\n",
       "    role_start_date          position classification                region  \\\n",
       "3            2006.0           Teacher        Primary    Central Queensland   \n",
       "5            1997.0  Guidance Officer            NaN        Central Office   \n",
       "8            2009.0           Teacher      Secondary      North Queensland   \n",
       "9            2008.0      Teacher Aide            NaN                   NaN   \n",
       "11           2009.0           Teacher      Secondary  Far North Queensland   \n",
       "\n",
       "           business_unit    employment_status        ...          workload  \\\n",
       "3                    NaN  Permanent Full-time        ...             False   \n",
       "5   Education Queensland  Permanent Full-time        ...             False   \n",
       "8                    NaN  Permanent Full-time        ...             False   \n",
       "9                    NaN  Permanent Part-time        ...             False   \n",
       "11                   NaN  Permanent Full-time        ...             False   \n",
       "\n",
       "    none_of_the_above  gender    age  aboriginal  torres_strait  south_sea  \\\n",
       "3               False  Female  36-40         NaN            NaN        NaN   \n",
       "5               False  Female  41-45         NaN            NaN        NaN   \n",
       "8               False  Female  31-35         NaN            NaN        NaN   \n",
       "9               False  Female  46-50         NaN            NaN        NaN   \n",
       "11              False    Male  31-35         NaN            NaN        NaN   \n",
       "\n",
       "    disability  nesb  institute_service  \n",
       "3          NaN   NaN                7.0  \n",
       "5          NaN   NaN               18.0  \n",
       "8          NaN   NaN                3.0  \n",
       "9          NaN   NaN               15.0  \n",
       "11         NaN   NaN                3.0  \n",
       "\n",
       "[5 rows x 36 columns]"
      ]
     },
     "execution_count": 61,
     "metadata": {},
     "output_type": "execute_result"
    }
   ],
   "source": [
    "dete_resignations['institute_service'] = dete_resignations['cease_date'] - dete_resignations['dete_start_date']\n",
    "dete_resignations.head()"
   ]
  },
  {
   "cell_type": "markdown",
   "metadata": {},
   "source": [
    "# Creating a new column of number of years in service by looking at the start date and the end date"
   ]
  },
  {
   "cell_type": "code",
   "execution_count": 63,
   "metadata": {
    "collapsed": false
   },
   "outputs": [
    {
     "name": "stdout",
     "output_type": "stream",
     "text": [
      "-                                         277\n",
      "Contributing Factors. Dissatisfaction      55\n",
      "Name: Contributing Factors. Dissatisfaction, dtype: int64\n",
      "-                      270\n",
      "Job Dissatisfaction     62\n",
      "Name: Contributing Factors. Job Dissatisfaction, dtype: int64\n"
     ]
    }
   ],
   "source": [
    "print(tafe_resignations['Contributing Factors. Dissatisfaction'].value_counts())\n",
    "print(tafe_resignations['Contributing Factors. Job Dissatisfaction'].value_counts())"
   ]
  },
  {
   "cell_type": "code",
   "execution_count": 69,
   "metadata": {
    "collapsed": false
   },
   "outputs": [
    {
     "name": "stderr",
     "output_type": "stream",
     "text": [
      "/dataquest/system/env/python3/lib/python3.4/site-packages/ipykernel/__main__.py:7: SettingWithCopyWarning:\n",
      "\n",
      "\n",
      "A value is trying to be set on a copy of a slice from a DataFrame.\n",
      "Try using .loc[row_indexer,col_indexer] = value instead\n",
      "\n",
      "See the caveats in the documentation: http://pandas.pydata.org/pandas-docs/stable/indexing.html#indexing-view-versus-copy\n",
      "\n"
     ]
    }
   ],
   "source": [
    "def update_vals(val):\n",
    "    if pd.isnull(val):\n",
    "        return val\n",
    "    if val == '-':\n",
    "        return False\n",
    "    return True\n",
    "tafe_resignations['dissatisfied'] = tafe_resignations[[ 'Contributing Factors. Dissatisfaction', 'Contributing Factors. Job Dissatisfaction']].applymap(update_vals).any(axis =1, skipna = False)\n",
    "tafe_resignations_up = tafe_resignations.copy()"
   ]
  },
  {
   "cell_type": "code",
   "execution_count": 73,
   "metadata": {
    "collapsed": false
   },
   "outputs": [
    {
     "name": "stderr",
     "output_type": "stream",
     "text": [
      "/dataquest/system/env/python3/lib/python3.4/site-packages/ipykernel/__main__.py:5: SettingWithCopyWarning:\n",
      "\n",
      "\n",
      "A value is trying to be set on a copy of a slice from a DataFrame.\n",
      "Try using .loc[row_indexer,col_indexer] = value instead\n",
      "\n",
      "See the caveats in the documentation: http://pandas.pydata.org/pandas-docs/stable/indexing.html#indexing-view-versus-copy\n",
      "\n"
     ]
    }
   ],
   "source": [
    "imp_cols = [     'job_dissatisfaction',   'dissatisfaction_with_the_department',\n",
    "    'physical_work_environment',    'lack_of_recognition',    'lack_of_job_security',\n",
    "    'work_location',    'employment_conditions',    'work_life_balance',    'workload']\n",
    "\n",
    "dete_resignations['dissatisfied'] = dete_resignations[imp_cols].any(axis =1, skipna = False)"
   ]
  },
  {
   "cell_type": "code",
   "execution_count": 74,
   "metadata": {
    "collapsed": true
   },
   "outputs": [],
   "source": [
    "dete_resignations_up = dete_resignations.copy()"
   ]
  },
  {
   "cell_type": "code",
   "execution_count": 75,
   "metadata": {
    "collapsed": false
   },
   "outputs": [
    {
     "data": {
      "text/plain": [
       "torres_strait                                            0\n",
       "south_sea                                                3\n",
       "aboriginal                                               7\n",
       "disability                                               8\n",
       "nesb                                                     9\n",
       "business_unit                                           32\n",
       "classification                                         161\n",
       "region                                                 265\n",
       "role_start_date                                        271\n",
       "dete_start_date                                        283\n",
       "role_service                                           290\n",
       "career_move_to_public_sector                           311\n",
       "employment_conditions                                  311\n",
       "work_location                                          311\n",
       "lack_of_job_security                                   311\n",
       "job_dissatisfaction                                    311\n",
       "dissatisfaction_with_the_department                    311\n",
       "workload                                               311\n",
       "lack_of_recognition                                    311\n",
       "interpersonal_conflicts                                311\n",
       "maternity/family                                       311\n",
       "none_of_the_above                                      311\n",
       "physical_work_environment                              311\n",
       "relocation                                             311\n",
       "study/travel                                           311\n",
       "traumatic_incident                                     311\n",
       "work_life_balance                                      311\n",
       "career_move_to_private_sector                          311\n",
       "ill_health                                             311\n",
       "Contributing Factors. Career Move - Private Sector     332\n",
       "Contributing Factors. Other                            332\n",
       "Contributing Factors. Career Move - Public Sector      332\n",
       "Contributing Factors. Career Move - Self-employment    332\n",
       "Contributing Factors. Travel                           332\n",
       "Contributing Factors. Study                            332\n",
       "Contributing Factors. Dissatisfaction                  332\n",
       "Contributing Factors. Ill Health                       332\n",
       "Contributing Factors. NONE                             332\n",
       "Contributing Factors. Maternity/Family                 332\n",
       "Contributing Factors. Job Dissatisfaction              332\n",
       "Contributing Factors. Interpersonal Conflict           332\n",
       "WorkArea                                               340\n",
       "Institute                                              340\n",
       "institute_service                                      563\n",
       "gender                                                 592\n",
       "age                                                    596\n",
       "employment_status                                      597\n",
       "position                                               598\n",
       "cease_date                                             635\n",
       "dissatisfied                                           643\n",
       "id                                                     651\n",
       "separationtype                                         651\n",
       "institute                                              651\n",
       "dtype: int64"
      ]
     },
     "execution_count": 75,
     "metadata": {},
     "output_type": "execute_result"
    }
   ],
   "source": [
    "dete_resignations_up['institute'] = 'DETE'\n",
    "tafe_resignations_up['institute'] = 'TAFE'\n",
    "combined = pd.concat([dete_resignations_up, tafe_resignations_up], ignore_index = True)\n",
    "combined.notnull().sum().sort_values()"
   ]
  },
  {
   "cell_type": "code",
   "execution_count": 76,
   "metadata": {
    "collapsed": true
   },
   "outputs": [],
   "source": [
    "combined_updated = combined.dropna(thresh=500, axis = 1).copy()"
   ]
  },
  {
   "cell_type": "code",
   "execution_count": 85,
   "metadata": {
    "collapsed": false
   },
   "outputs": [
    {
     "name": "stderr",
     "output_type": "stream",
     "text": [
      "/dataquest/system/env/python3/lib/python3.4/site-packages/ipykernel/__main__.py:1: FutureWarning:\n",
      "\n",
      "currently extract(expand=None) means expand=False (return Index/Series/DataFrame) but in a future version of pandas this will be changed to expand=True (return DataFrame)\n",
      "\n"
     ]
    },
    {
     "data": {
      "text/plain": [
       " 31.0      1\n",
       " 42.0      1\n",
       " 29.0      1\n",
       " 35.0      1\n",
       " 27.0      1\n",
       " 33.0      1\n",
       " 49.0      1\n",
       " 38.0      1\n",
       " 34.0      1\n",
       " 41.0      1\n",
       " 28.0      2\n",
       " 25.0      2\n",
       " 30.0      2\n",
       " 36.0      2\n",
       " 26.0      2\n",
       " 19.0      3\n",
       " 32.0      3\n",
       " 39.0      3\n",
       " 21.0      3\n",
       " 24.0      4\n",
       " 23.0      4\n",
       " 18.0      5\n",
       " 16.0      5\n",
       " 12.0      6\n",
       " 14.0      6\n",
       " 17.0      6\n",
       " 10.0      6\n",
       " 22.0      6\n",
       " 15.0      7\n",
       " 8.0       8\n",
       " 13.0      8\n",
       " 2.0      14\n",
       " 9.0      14\n",
       " 4.0      16\n",
       " 20.0     17\n",
       " 6.0      17\n",
       " 0.0      20\n",
       " 11.0     30\n",
       " 7.0      34\n",
       " 5.0      56\n",
       " 3.0      83\n",
       "NaN       88\n",
       " 1.0     159\n",
       "Name: institute_service_extr, dtype: int64"
      ]
     },
     "execution_count": 85,
     "metadata": {},
     "output_type": "execute_result"
    }
   ],
   "source": [
    "combined_updated[ 'institute_service_extr'] = combined_updated['institute_service'].astype('str').str.extract(r'(\\d+)')\n",
    "combined_updated['institute_service_extr'] = combined_updated['institute_service_extr'].astype('float')\n",
    "combined_updated['institute_service_extr'].value_counts(dropna=False).sort_values()"
   ]
  },
  {
   "cell_type": "code",
   "execution_count": 86,
   "metadata": {
    "collapsed": false
   },
   "outputs": [
    {
     "data": {
      "text/plain": [
       " 1.0     159\n",
       "NaN       88\n",
       " 3.0      83\n",
       " 5.0      56\n",
       " 7.0      34\n",
       " 11.0     30\n",
       " 0.0      20\n",
       " 20.0     17\n",
       " 6.0      17\n",
       " 4.0      16\n",
       " 9.0      14\n",
       " 2.0      14\n",
       " 13.0      8\n",
       " 8.0       8\n",
       " 15.0      7\n",
       " 22.0      6\n",
       " 10.0      6\n",
       " 17.0      6\n",
       " 14.0      6\n",
       " 12.0      6\n",
       " 16.0      5\n",
       " 18.0      5\n",
       " 24.0      4\n",
       " 23.0      4\n",
       " 21.0      3\n",
       " 39.0      3\n",
       " 32.0      3\n",
       " 19.0      3\n",
       " 36.0      2\n",
       " 30.0      2\n",
       " 25.0      2\n",
       " 26.0      2\n",
       " 28.0      2\n",
       " 42.0      1\n",
       " 29.0      1\n",
       " 35.0      1\n",
       " 27.0      1\n",
       " 41.0      1\n",
       " 49.0      1\n",
       " 38.0      1\n",
       " 34.0      1\n",
       " 33.0      1\n",
       " 31.0      1\n",
       "Name: institute_service_extr, dtype: int64"
      ]
     },
     "execution_count": 86,
     "metadata": {},
     "output_type": "execute_result"
    }
   ],
   "source": [
    "combined_updated['institute_service_extr'].value_counts(dropna=False)"
   ]
  },
  {
   "cell_type": "code",
   "execution_count": 87,
   "metadata": {
    "collapsed": false
   },
   "outputs": [
    {
     "data": {
      "text/plain": [
       "Established     62\n",
       "NaN             88\n",
       "Veteran        136\n",
       "Experienced    172\n",
       "New            193\n",
       "Name: service_cat, dtype: int64"
      ]
     },
     "execution_count": 87,
     "metadata": {},
     "output_type": "execute_result"
    }
   ],
   "source": [
    "def career_state(num):\n",
    "    if pd.isnull(num):\n",
    "        return np.nan\n",
    "    if num < 3:\n",
    "        return 'New'\n",
    "    if num <= 6:\n",
    "        return 'Experienced'\n",
    "    if num <=10:\n",
    "        return 'Established'\n",
    "    return 'Veteran'\n",
    "combined_updated['service_cat'] = combined_updated['institute_service_extr'].apply(career_state)\n",
    "combined_updated['service_cat'].value_counts(dropna=False).sort_values()       "
   ]
  },
  {
   "cell_type": "code",
   "execution_count": 89,
   "metadata": {
    "collapsed": false
   },
   "outputs": [
    {
     "data": {
      "text/plain": [
       "False    403\n",
       "True     240\n",
       "NaN        8\n",
       "Name: dissatisfied, dtype: int64"
      ]
     },
     "execution_count": 89,
     "metadata": {},
     "output_type": "execute_result"
    }
   ],
   "source": [
    "combined_updated['dissatisfied'].value_counts(dropna=False)"
   ]
  },
  {
   "cell_type": "code",
   "execution_count": 90,
   "metadata": {
    "collapsed": true
   },
   "outputs": [],
   "source": [
    "combined_updated['dissatisfied'] = combined_updated['dissatisfied'].fillna(False)"
   ]
  },
  {
   "cell_type": "code",
   "execution_count": 91,
   "metadata": {
    "collapsed": false
   },
   "outputs": [
    {
     "data": {
      "text/plain": [
       "False    411\n",
       "True     240\n",
       "Name: dissatisfied, dtype: int64"
      ]
     },
     "execution_count": 91,
     "metadata": {},
     "output_type": "execute_result"
    }
   ],
   "source": [
    "combined_updated['dissatisfied'].value_counts(dropna=False)"
   ]
  },
  {
   "cell_type": "code",
   "execution_count": 94,
   "metadata": {
    "collapsed": false
   },
   "outputs": [
    {
     "data": {
      "text/plain": [
       "<matplotlib.axes._subplots.AxesSubplot at 0x7f5f2136b0b8>"
      ]
     },
     "execution_count": 94,
     "metadata": {},
     "output_type": "execute_result"
    },
    {
     "data": {
      "image/png": "[encoded data removed]",
      "text/plain": [
       "<matplotlib.figure.Figure at 0x7f5f2135f1d0>"
      ]
     },
     "metadata": {},
     "output_type": "display_data"
    }
   ],
   "source": [
    "combined_updated.pivot_table( index = 'service_cat', values = 'dissatisfied').plot(kind = 'bar', legend = False)"
   ]
  },
  {
   "cell_type": "markdown",
   "metadata": {},
   "source": [
    "Shows that the categories *Established* and *Veteran* are more likely to be leave the company due to dissatisfaction. "
   ]
  }
 ],
 "metadata": {
  "kernelspec": {
   "display_name": "Python 3",
   "language": "python",
   "name": "python3"
  },
  "language_info": {
   "codemirror_mode": {
    "name": "ipython",
    "version": 3
   },
   "file_extension": ".py",
   "mimetype": "text/x-python",
   "name": "python",
   "nbconvert_exporter": "python",
   "pygments_lexer": "ipython3",
   "version": "3.4.3"
  }
 },
 "nbformat": 4,
 "nbformat_minor": 2
}

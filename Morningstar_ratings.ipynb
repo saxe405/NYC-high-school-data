{
 "cells": [
  {
   "cell_type": "markdown",
   "metadata": {},
   "source": [
    "# Impact of expense ratio on fund performance\n",
    "In this project, we will look at the mutual funds performance and test the theory of Vanguard industries. They claim that the fund performance is largely determined by the general movement. Therefore, to maximize your potential gains, one must select funds which has low expense ratio. Therefore, we plan to look at the following aspects\n",
    "1. Does expense ratio have a big impact on the fund performance\n",
    "2. Does fund size have a big major impact on the fund performance\n",
    "3. Does having a morning star rating have a major impact on the performance\n",
    "4. What are other factors which are negatively correlated with the fund performance"
   ]
  },
  {
   "cell_type": "code",
   "execution_count": 3,
   "metadata": {},
   "outputs": [],
   "source": [
    "import pandas as pd\n",
    "book = pd.read_csv('european-funds-dataset-from-morningstar/Morningstar - European Mutual Funds.csv')"
   ]
  },
  {
   "cell_type": "code",
   "execution_count": 4,
   "metadata": {},
   "outputs": [
    {
     "data": {
      "text/html": [
       "<div>\n",
       "<style scoped>\n",
       "    .dataframe tbody tr th:only-of-type {\n",
       "        vertical-align: middle;\n",
       "    }\n",
       "\n",
       "    .dataframe tbody tr th {\n",
       "        vertical-align: top;\n",
       "    }\n",
       "\n",
       "    .dataframe thead th {\n",
       "        text-align: right;\n",
       "    }\n",
       "</style>\n",
       "<table border=\"1\" class=\"dataframe\">\n",
       "  <thead>\n",
       "    <tr style=\"text-align: right;\">\n",
       "      <th></th>\n",
       "      <th>ticker</th>\n",
       "      <th>isin</th>\n",
       "      <th>fund_name</th>\n",
       "      <th>morningstar_category</th>\n",
       "      <th>morningstar_rating</th>\n",
       "      <th>morningstar_analyst_rating</th>\n",
       "      <th>morningstar_risk_rating</th>\n",
       "      <th>morningstar_performance_rating</th>\n",
       "      <th>nav_per_share_currency</th>\n",
       "      <th>nav_per_share</th>\n",
       "      <th>...</th>\n",
       "      <th>involvement_controversial_weapons</th>\n",
       "      <th>involvement_gambling</th>\n",
       "      <th>involvement_gmo</th>\n",
       "      <th>involvement_military_contracting</th>\n",
       "      <th>involvement_nuclear</th>\n",
       "      <th>involvement_palm_oil</th>\n",
       "      <th>involvement_pesticides</th>\n",
       "      <th>involvement_small_arms</th>\n",
       "      <th>involvement_thermal_coal</th>\n",
       "      <th>involvement_tobacco</th>\n",
       "    </tr>\n",
       "  </thead>\n",
       "  <tbody>\n",
       "    <tr>\n",
       "      <th>0</th>\n",
       "      <td>0P00000AWF</td>\n",
       "      <td>LU0171281750</td>\n",
       "      <td>BlackRock Global Funds - European Value Fund A2</td>\n",
       "      <td>Europe Large-Cap Value Equity</td>\n",
       "      <td>3.0</td>\n",
       "      <td>Bronze</td>\n",
       "      <td>3.0</td>\n",
       "      <td>3.0</td>\n",
       "      <td>USD</td>\n",
       "      <td>68.96</td>\n",
       "      <td>...</td>\n",
       "      <td>2.70</td>\n",
       "      <td>0.00</td>\n",
       "      <td>0.00</td>\n",
       "      <td>5.05</td>\n",
       "      <td>6.54</td>\n",
       "      <td>0.0</td>\n",
       "      <td>0.00</td>\n",
       "      <td>0.00</td>\n",
       "      <td>12.32</td>\n",
       "      <td>0.00</td>\n",
       "    </tr>\n",
       "    <tr>\n",
       "      <th>1</th>\n",
       "      <td>0P00000AYI</td>\n",
       "      <td>LU0071969892</td>\n",
       "      <td>BlackRock Global Funds - Continental European ...</td>\n",
       "      <td>Europe ex-UK Large-Cap Equity</td>\n",
       "      <td>4.0</td>\n",
       "      <td>Bronze</td>\n",
       "      <td>4.0</td>\n",
       "      <td>5.0</td>\n",
       "      <td>GBP</td>\n",
       "      <td>22.51</td>\n",
       "      <td>...</td>\n",
       "      <td>9.19</td>\n",
       "      <td>0.00</td>\n",
       "      <td>0.00</td>\n",
       "      <td>10.93</td>\n",
       "      <td>1.98</td>\n",
       "      <td>0.0</td>\n",
       "      <td>0.00</td>\n",
       "      <td>0.00</td>\n",
       "      <td>1.98</td>\n",
       "      <td>0.00</td>\n",
       "    </tr>\n",
       "    <tr>\n",
       "      <th>2</th>\n",
       "      <td>0P00000BOW</td>\n",
       "      <td>LU0011983433</td>\n",
       "      <td>Morgan Stanley Investment Funds - Global Bond ...</td>\n",
       "      <td>Global Bond</td>\n",
       "      <td>5.0</td>\n",
       "      <td>NaN</td>\n",
       "      <td>3.0</td>\n",
       "      <td>5.0</td>\n",
       "      <td>EUR</td>\n",
       "      <td>44.20</td>\n",
       "      <td>...</td>\n",
       "      <td>0.00</td>\n",
       "      <td>0.24</td>\n",
       "      <td>0.16</td>\n",
       "      <td>0.00</td>\n",
       "      <td>0.38</td>\n",
       "      <td>0.0</td>\n",
       "      <td>0.35</td>\n",
       "      <td>0.00</td>\n",
       "      <td>1.67</td>\n",
       "      <td>0.29</td>\n",
       "    </tr>\n",
       "    <tr>\n",
       "      <th>3</th>\n",
       "      <td>0P00000ESH</td>\n",
       "      <td>LU0757425763</td>\n",
       "      <td>Threadneedle (Lux) - American Select Class AU ...</td>\n",
       "      <td>US Large-Cap Growth Equity</td>\n",
       "      <td>2.0</td>\n",
       "      <td>NaN</td>\n",
       "      <td>3.0</td>\n",
       "      <td>2.0</td>\n",
       "      <td>EUR</td>\n",
       "      <td>23.03</td>\n",
       "      <td>...</td>\n",
       "      <td>0.00</td>\n",
       "      <td>0.00</td>\n",
       "      <td>0.00</td>\n",
       "      <td>0.26</td>\n",
       "      <td>0.26</td>\n",
       "      <td>0.0</td>\n",
       "      <td>0.00</td>\n",
       "      <td>0.00</td>\n",
       "      <td>8.06</td>\n",
       "      <td>0.00</td>\n",
       "    </tr>\n",
       "    <tr>\n",
       "      <th>4</th>\n",
       "      <td>0P00000ESL</td>\n",
       "      <td>LU0011818076</td>\n",
       "      <td>HSBC Global Investment Funds - Economic Scale ...</td>\n",
       "      <td>Japan Large-Cap Equity</td>\n",
       "      <td>3.0</td>\n",
       "      <td>NaN</td>\n",
       "      <td>2.0</td>\n",
       "      <td>3.0</td>\n",
       "      <td>USD</td>\n",
       "      <td>11.44</td>\n",
       "      <td>...</td>\n",
       "      <td>0.00</td>\n",
       "      <td>0.18</td>\n",
       "      <td>0.00</td>\n",
       "      <td>0.79</td>\n",
       "      <td>5.30</td>\n",
       "      <td>0.0</td>\n",
       "      <td>0.42</td>\n",
       "      <td>0.15</td>\n",
       "      <td>9.22</td>\n",
       "      <td>2.34</td>\n",
       "    </tr>\n",
       "  </tbody>\n",
       "</table>\n",
       "<p>5 rows × 111 columns</p>\n",
       "</div>"
      ],
      "text/plain": [
       "       ticker          isin  \\\n",
       "0  0P00000AWF  LU0171281750   \n",
       "1  0P00000AYI  LU0071969892   \n",
       "2  0P00000BOW  LU0011983433   \n",
       "3  0P00000ESH  LU0757425763   \n",
       "4  0P00000ESL  LU0011818076   \n",
       "\n",
       "                                           fund_name  \\\n",
       "0    BlackRock Global Funds - European Value Fund A2   \n",
       "1  BlackRock Global Funds - Continental European ...   \n",
       "2  Morgan Stanley Investment Funds - Global Bond ...   \n",
       "3  Threadneedle (Lux) - American Select Class AU ...   \n",
       "4  HSBC Global Investment Funds - Economic Scale ...   \n",
       "\n",
       "            morningstar_category  morningstar_rating  \\\n",
       "0  Europe Large-Cap Value Equity                 3.0   \n",
       "1  Europe ex-UK Large-Cap Equity                 4.0   \n",
       "2                    Global Bond                 5.0   \n",
       "3     US Large-Cap Growth Equity                 2.0   \n",
       "4         Japan Large-Cap Equity                 3.0   \n",
       "\n",
       "  morningstar_analyst_rating  morningstar_risk_rating  \\\n",
       "0                     Bronze                      3.0   \n",
       "1                     Bronze                      4.0   \n",
       "2                        NaN                      3.0   \n",
       "3                        NaN                      3.0   \n",
       "4                        NaN                      2.0   \n",
       "\n",
       "   morningstar_performance_rating nav_per_share_currency  nav_per_share  ...  \\\n",
       "0                             3.0                    USD          68.96  ...   \n",
       "1                             5.0                    GBP          22.51  ...   \n",
       "2                             5.0                    EUR          44.20  ...   \n",
       "3                             2.0                    EUR          23.03  ...   \n",
       "4                             3.0                    USD          11.44  ...   \n",
       "\n",
       "  involvement_controversial_weapons  involvement_gambling involvement_gmo  \\\n",
       "0                              2.70                  0.00            0.00   \n",
       "1                              9.19                  0.00            0.00   \n",
       "2                              0.00                  0.24            0.16   \n",
       "3                              0.00                  0.00            0.00   \n",
       "4                              0.00                  0.18            0.00   \n",
       "\n",
       "   involvement_military_contracting  involvement_nuclear  \\\n",
       "0                              5.05                 6.54   \n",
       "1                             10.93                 1.98   \n",
       "2                              0.00                 0.38   \n",
       "3                              0.26                 0.26   \n",
       "4                              0.79                 5.30   \n",
       "\n",
       "   involvement_palm_oil  involvement_pesticides  involvement_small_arms  \\\n",
       "0                   0.0                    0.00                    0.00   \n",
       "1                   0.0                    0.00                    0.00   \n",
       "2                   0.0                    0.35                    0.00   \n",
       "3                   0.0                    0.00                    0.00   \n",
       "4                   0.0                    0.42                    0.15   \n",
       "\n",
       "   involvement_thermal_coal  involvement_tobacco  \n",
       "0                     12.32                 0.00  \n",
       "1                      1.98                 0.00  \n",
       "2                      1.67                 0.29  \n",
       "3                      8.06                 0.00  \n",
       "4                      9.22                 2.34  \n",
       "\n",
       "[5 rows x 111 columns]"
      ]
     },
     "execution_count": 4,
     "metadata": {},
     "output_type": "execute_result"
    }
   ],
   "source": [
    "book.head()"
   ]
  },
  {
   "cell_type": "code",
   "execution_count": 9,
   "metadata": {},
   "outputs": [
    {
     "data": {
      "text/plain": [
       "(49399, 111)"
      ]
     },
     "execution_count": 9,
     "metadata": {},
     "output_type": "execute_result"
    }
   ],
   "source": [
    "book.shape"
   ]
  },
  {
   "cell_type": "code",
   "execution_count": 8,
   "metadata": {
    "scrolled": true
   },
   "outputs": [
    {
     "data": {
      "text/plain": [
       "<matplotlib.axes._subplots.AxesSubplot at 0x19a5f857f98>"
      ]
     },
     "execution_count": 8,
     "metadata": {},
     "output_type": "execute_result"
    },
    {
     "data": {
      "image/png": "[encoded data removed]",
      "text/plain": [
       "<Figure size 1800x720 with 2 Axes>"
      ]
     },
     "metadata": {
      "needs_background": "light"
     },
     "output_type": "display_data"
    }
   ],
   "source": [
    "import missingno as msno \n",
    "%matplotlib inline\n",
    "msno.matrix(book) \n"
   ]
  },
  {
   "cell_type": "code",
   "execution_count": 10,
   "metadata": {},
   "outputs": [
    {
     "data": {
      "text/plain": [
       "<matplotlib.axes._subplots.AxesSubplot at 0x19a5f4b9ba8>"
      ]
     },
     "execution_count": 10,
     "metadata": {},
     "output_type": "execute_result"
    },
    {
     "data": {
      "image/png": "[encoded data removed]",
      "text/plain": [
       "<Figure size 1728x720 with 2 Axes>"
      ]
     },
     "metadata": {
      "needs_background": "light"
     },
     "output_type": "display_data"
    }
   ],
   "source": [
    "msno.bar(book)"
   ]
  },
  {
   "cell_type": "code",
   "execution_count": 12,
   "metadata": {},
   "outputs": [
    {
     "data": {
      "text/plain": [
       "Index(['class_size', 'fund_size_currency', 'fund_size', 'fund_return_ytd',\n",
       "       'fund_return_2018', 'fund_return_2017', 'fund_return_2016',\n",
       "       'fund_return_2015', 'fund_return_2014', 'fund_return_2013',\n",
       "       'fund_return_2012', 'fund_return_2011', 'fund_return_2010',\n",
       "       'investment_strategy', 'trailing_return_3years',\n",
       "       'trailing_return_5years', 'trailing_return_10years',\n",
       "       'trailing_return_since_inception', 'dividend_frequency',\n",
       "       'fund_benchmark', 'morningstar_benchmark', 'equity_style',\n",
       "       'equity_style_score', 'equity_size', 'equity_size_score',\n",
       "       'price_prospective_earnings', 'price_book', 'price_sales',\n",
       "       'price_cash_flow', 'dividend_yield_factor',\n",
       "       'long_term_projected_earnings_growth', 'historical_earnings_growth',\n",
       "       'sales_growth', 'cash_flow_growth', 'book_value_growth', 'roa', 'roe',\n",
       "       'roic', 'bond_interest_rate_sensitivity', 'bond_credit_quality',\n",
       "       'average_coupon_rate', 'average_credit_quality', 'modified_duration',\n",
       "       'effective_maturity', 'asset_stock', 'asset_bond', 'asset_cash',\n",
       "       'asset_other', 'country_exposure', 'top5_regions',\n",
       "       'sector_basic_materials', 'sector_consumer_cyclical',\n",
       "       'sector_financial_services', 'sector_real_estate',\n",
       "       'sector_consumer_defensive', 'sector_healthcare', 'sector_utilities',\n",
       "       'sector_communication_services', 'sector_energy', 'sector_industrials',\n",
       "       'sector_technology', 'market_capitalization_giant',\n",
       "       'market_capitalization_large', 'market_capitalization_medium',\n",
       "       'market_capitalization_small', 'market_capitalization_micro',\n",
       "       'credit_quality_aaa', 'credit_quality_aa', 'credit_quality_a',\n",
       "       'credit_quality_bbb', 'credit_quality_bb', 'credit_quality_b',\n",
       "       'credit_quality_below_b', 'credit_quality_not_rated',\n",
       "       'holdings_number_stock', 'holdings_number_bonds', 'top5_holdings',\n",
       "       'ongoing_cost', 'management_fees', 'sustainability_rank', 'esg_score',\n",
       "       'environmental_score', 'social_score', 'governance_score',\n",
       "       'controversy_score', 'sustainability_score',\n",
       "       'sustainability_percentage_rank', 'involvement_abortive_contraceptive',\n",
       "       'involvement_alcohol', 'involvement_animal_testing',\n",
       "       'involvement_controversial_weapons', 'involvement_gambling',\n",
       "       'involvement_gmo', 'involvement_military_contracting',\n",
       "       'involvement_nuclear', 'involvement_palm_oil', 'involvement_pesticides',\n",
       "       'involvement_small_arms', 'involvement_thermal_coal',\n",
       "       'involvement_tobacco'],\n",
       "      dtype='object')"
      ]
     },
     "execution_count": 12,
     "metadata": {},
     "output_type": "execute_result"
    }
   ],
   "source": [
    "book.columns[11:]"
   ]
  }
 ],
 "metadata": {
  "kernelspec": {
   "display_name": "Python 3",
   "language": "python",
   "name": "python3"
  },
  "language_info": {
   "codemirror_mode": {
    "name": "ipython",
    "version": 3
   },
   "file_extension": ".py",
   "mimetype": "text/x-python",
   "name": "python",
   "nbconvert_exporter": "python",
   "pygments_lexer": "ipython3",
   "version": "3.7.3"
  }
 },
 "nbformat": 4,
 "nbformat_minor": 2
}
